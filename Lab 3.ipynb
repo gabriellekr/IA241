{
 "cells": [
  {
   "cell_type": "markdown",
   "metadata": {},
   "source": [
    "# Lab 3"
   ]
  },
  {
   "cell_type": "markdown",
   "metadata": {},
   "source": [
    "## Q1"
   ]
  },
  {
   "cell_type": "code",
   "execution_count": 8,
   "metadata": {},
   "outputs": [
    {
     "name": "stdout",
     "output_type": "stream",
     "text": [
      "[12, 32, 35, 43]\n",
      "12\n",
      "43\n"
     ]
    }
   ],
   "source": [
    "num_list = [12, 32, 43, 35]\n",
    "num_list.sort()\n",
    "print (num_list)\n",
    "print (num_list[0])\n",
    "print (num_list[-1])"
   ]
  },
  {
   "cell_type": "markdown",
   "metadata": {},
   "source": [
    "## Q2"
   ]
  },
  {
   "cell_type": "code",
   "execution_count": 16,
   "metadata": {},
   "outputs": [
    {
     "name": "stdout",
     "output_type": "stream",
     "text": [
      "this is my third python lab\n",
      "6\n"
     ]
    }
   ],
   "source": [
    "str_list = 'this is my third python lab'\n",
    "print (str_list)\n",
    "print (len(str_list.split()))"
   ]
  },
  {
   "cell_type": "markdown",
   "metadata": {},
   "source": [
    "## Q3"
   ]
  },
  {
   "cell_type": "code",
   "execution_count": 30,
   "metadata": {},
   "outputs": [
    {
     "name": "stdout",
     "output_type": "stream",
     "text": [
      "10\n"
     ]
    }
   ],
   "source": [
    "my_list = ('a','123','123','b','B','False',False,123,None,'None')\n",
    "print (len (my_list))"
   ]
  },
  {
   "cell_type": "markdown",
   "metadata": {},
   "source": [
    "### There are 6 unique items in the list because False, 123, and None are repeated. "
   ]
  },
  {
   "cell_type": "code",
   "execution_count": 66,
   "metadata": {},
   "outputs": [
    {
     "name": "stdout",
     "output_type": "stream",
     "text": [
      "{'favorite_count': 1138, 'lang': ['en'], 'coordinates': (-75.14310264, 40.05701649), 'visited_countries': ['GR', 'HK', 'MY']}\n",
      "3\n",
      "['GR', 'HK', 'MY', 'CH']\n",
      "False\n",
      "-75.14310264\n"
     ]
    }
   ],
   "source": [
    "my_dict = {\"favorite_count\":1138,\n",
    "          \"lang\":\"ch\",\n",
    "          \"coordinates\": (-75.14310264, 40.05701649), \n",
    "           \"visited_countries\":[\"GR\",\"HK\",\"MY\"]}\n",
    "\n",
    "my_dict['lang']=['en']\n",
    "print (my_dict)\n",
    "\n",
    "print (len(my_dict.get ('visited_countries')))\n",
    "\n",
    "my_dict['visited_countries'].append('CH')\n",
    "print (my_dict['visited_countries'])\n",
    "\n",
    "print (\"US\" in my_dict['visited_countries']) \n",
    "\n",
    "print (my_dict[\"coordinates\"][0])"
   ]
  },
  {
   "cell_type": "markdown",
   "metadata": {},
   "source": [
    "## 4.6 "
   ]
  },
  {
   "cell_type": "markdown",
   "metadata": {},
   "source": [
    "### yes, you can "
   ]
  },
  {
   "cell_type": "code",
   "execution_count": 67,
   "metadata": {},
   "outputs": [
    {
     "name": "stdout",
     "output_type": "stream",
     "text": [
      "(-81, 45)\n"
     ]
    }
   ],
   "source": [
    "my_dict[\"coordinates\"] = (-81, 45)\n",
    "print (my_dict [\"coordinates\"])"
   ]
  },
  {
   "cell_type": "code",
   "execution_count": null,
   "metadata": {},
   "outputs": [],
   "source": []
  }
 ],
 "metadata": {
  "kernelspec": {
   "display_name": "Python 3",
   "language": "python",
   "name": "python3"
  },
  "language_info": {
   "codemirror_mode": {
    "name": "ipython",
    "version": 3
   },
   "file_extension": ".py",
   "mimetype": "text/x-python",
   "name": "python",
   "nbconvert_exporter": "python",
   "pygments_lexer": "ipython3",
   "version": "3.6.5"
  }
 },
 "nbformat": 4,
 "nbformat_minor": 2
}
