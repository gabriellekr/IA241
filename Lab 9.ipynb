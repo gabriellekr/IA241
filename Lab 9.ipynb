{
 "cells": [
  {
   "cell_type": "code",
   "execution_count": 1,
   "metadata": {},
   "outputs": [],
   "source": [
    "import xlrd\n",
    "import xlutils\n",
    "\n",
    "book = xlrd.open_workbook('house_price.xls')\n",
    "\n",
    "sheet = book.sheet_by_name('price')\n",
    "price_list = []\n",
    "bath_list=[]\n",
    "htype_list=[]\n",
    "lot_size_list=[]\n",
    "year_list=[]\n",
    "area_list=[]\n",
    "for i in range(sheet.nrows): \n",
    "    row = sheet.row_values(i)\n",
    "    print(row)\n",
    "    \n",
    "for i in range(sheet.nrows): \n",
    "    price,bath,htype,lot_size,year,area = sheet.row_values(i)\n",
    "    if i !=0:\n",
    "        print(price,bath,htype,lot_size,year,area)\n",
    "        price_list.append(price)\n",
    "        bath_list.append(bath)\n",
    "        htype_list.append(htype)\n",
    "        lot_size_list.append(lot_size)\n",
    "        year_list.append(year)\n",
    "        area_list.append(area)\n",
    "print(price_list)\n",
    "print(bath_list)\n",
    "print(htype_list)\n",
    "print(lot_size_list)\n",
    "print(year_list)\n",
    "print(area_list.append)"
   ]
  },
  {
   "cell_type": "markdown",
   "metadata": {},
   "source": [
    "## Q2"
   ]
  },
  {
   "cell_type": "code",
   "execution_count": 2,
   "metadata": {},
   "outputs": [],
   "source": [
    "import numpy as np\n"
   ]
  },
  {
   "cell_type": "code",
   "execution_count": 3,
   "metadata": {},
   "outputs": [
    {
     "name": "stdout",
     "output_type": "stream",
     "text": [
      "mean house price is 356700.0\n",
      "median house price is 302400.0\n",
      "std house price is 245840.21233313315 \n"
     ]
    }
   ],
   "source": [
    "print ('mean house price is {}'.format(np.mean(price_list)))\n",
    "print ('median house price is {}'.format(np.median(price_list)))\n",
    "print ('std house price is {} '.format(np.std(price_list)))"
   ]
  },
  {
   "cell_type": "markdown",
   "metadata": {},
   "source": [
    "## Q3"
   ]
  },
  {
   "cell_type": "code",
   "execution_count": 4,
   "metadata": {},
   "outputs": [
    {
     "name": "stdout",
     "output_type": "stream",
     "text": [
      "the cor between price and # is 0.2278999173038209\n"
     ]
    }
   ],
   "source": [
    "print(\"the cor between price and # is {}\".format(np.corrcoef(price_list,bath_list)[0][1]))"
   ]
  },
  {
   "cell_type": "code",
   "execution_count": 5,
   "metadata": {},
   "outputs": [
    {
     "name": "stdout",
     "output_type": "stream",
     "text": [
      "the cor between price and area is 0.407551408717802\n"
     ]
    }
   ],
   "source": [
    "print(\"the cor between price and area is {}\".format(np.corrcoef(price_list,area_list)[0][1]))"
   ]
  },
  {
   "cell_type": "code",
   "execution_count": 6,
   "metadata": {},
   "outputs": [
    {
     "name": "stdout",
     "output_type": "stream",
     "text": [
      "the cor between price and year is -0.038346537078653466\n"
     ]
    }
   ],
   "source": [
    "print(\"the cor between price and year is {}\".format(np.corrcoef(price_list,year_list)[0][1]))"
   ]
  },
  {
   "cell_type": "code",
   "execution_count": 7,
   "metadata": {},
   "outputs": [
    {
     "name": "stdout",
     "output_type": "stream",
     "text": [
      "the cor between price and #lot is 0.8106869237150935\n"
     ]
    }
   ],
   "source": [
    "print(\"the cor between price and #lot is {}\".format(np.corrcoef(price_list,lot_size_list)[0][1]))"
   ]
  },
  {
   "cell_type": "markdown",
   "metadata": {},
   "source": [
    "### the correlation between price and lot size has the highest correlation"
   ]
  },
  {
   "cell_type": "markdown",
   "metadata": {},
   "source": [
    "## Q4"
   ]
  },
  {
   "cell_type": "code",
   "execution_count": 8,
   "metadata": {},
   "outputs": [],
   "source": [
    "from scipy import stats"
   ]
  },
  {
   "cell_type": "code",
   "execution_count": 9,
   "metadata": {},
   "outputs": [],
   "source": [
    "result1= stats.linregress(year_list,price_list)"
   ]
  },
  {
   "cell_type": "code",
   "execution_count": 10,
   "metadata": {},
   "outputs": [
    {
     "name": "stdout",
     "output_type": "stream",
     "text": [
      "0.8405564564153876\n",
      "-382.3268717298298\n",
      "1114764.977036849\n",
      "0.0014704569059245446\n"
     ]
    }
   ],
   "source": [
    "print(result1.pvalue)\n",
    "print(result1.slope)\n",
    "print(result1.intercept)\n",
    "print(result1.rvalue*result1.rvalue)"
   ]
  },
  {
   "cell_type": "code",
   "execution_count": 11,
   "metadata": {},
   "outputs": [],
   "source": [
    "result2= stats.linregress(area_list,price_list)"
   ]
  },
  {
   "cell_type": "code",
   "execution_count": 12,
   "metadata": {},
   "outputs": [
    {
     "name": "stdout",
     "output_type": "stream",
     "text": [
      "0.025387094399552994\n",
      "74.37646603912873\n",
      "171081.13292168107\n",
      "0.1660981507478648\n"
     ]
    }
   ],
   "source": [
    "print(result2.pvalue)\n",
    "print(result2.slope)\n",
    "print(result2.intercept)\n",
    "print(result2.rvalue*result2.rvalue)"
   ]
  },
  {
   "cell_type": "code",
   "execution_count": 13,
   "metadata": {},
   "outputs": [],
   "source": [
    "result3= stats.linregress(bath_list,price_list)"
   ]
  },
  {
   "cell_type": "code",
   "execution_count": 14,
   "metadata": {},
   "outputs": [
    {
     "name": "stdout",
     "output_type": "stream",
     "text": [
      "0.22580469278106366\n",
      "40480.85846867748\n",
      "240654.87238979124\n",
      "0.05193837230708838\n"
     ]
    }
   ],
   "source": [
    "print(result3.pvalue)\n",
    "print(result3.slope)\n",
    "print(result3.intercept)\n",
    "print(result3.rvalue*result3.rvalue)"
   ]
  },
  {
   "cell_type": "markdown",
   "metadata": {},
   "source": [
    "## Q5"
   ]
  },
  {
   "cell_type": "code",
   "execution_count": 15,
   "metadata": {},
   "outputs": [
    {
     "name": "stdout",
     "output_type": "stream",
     "text": [
      "price of house built in 2000 $350111.23357718927\n"
     ]
    }
   ],
   "source": [
    "print('price of house built in 2000 ${}'.format(result1.slope*2000+result1.intercept))"
   ]
  },
  {
   "cell_type": "code",
   "execution_count": 16,
   "metadata": {},
   "outputs": [
    {
     "name": "stdout",
     "output_type": "stream",
     "text": [
      "price of house with 2000 sqft is $319834.06499993854\n"
     ]
    }
   ],
   "source": [
    "print('price of house with 2000 sqft is ${}'.format(result2.slope*2000+result2.intercept))"
   ]
  },
  {
   "cell_type": "code",
   "execution_count": 17,
   "metadata": {},
   "outputs": [
    {
     "name": "stdout",
     "output_type": "stream",
     "text": [
      "price of house with 4 bathrooms sqft is $81202371.80974475\n"
     ]
    }
   ],
   "source": [
    "print('price of house with 4 bathrooms sqft is ${}'.format(result3.slope*2000+result3.intercept))"
   ]
  }
 ],
 "metadata": {
  "kernelspec": {
   "display_name": "Python 3",
   "language": "python",
   "name": "python3"
  },
  "language_info": {
   "codemirror_mode": {
    "name": "ipython",
    "version": 3
   },
   "file_extension": ".py",
   "mimetype": "text/x-python",
   "name": "python",
   "nbconvert_exporter": "python",
   "pygments_lexer": "ipython3",
   "version": "3.6.5"
  }
 },
 "nbformat": 4,
 "nbformat_minor": 2
}
