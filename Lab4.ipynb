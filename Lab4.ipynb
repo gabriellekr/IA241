{
 "cells": [
  {
   "cell_type": "code",
   "execution_count": 1,
   "metadata": {},
   "outputs": [
    {
     "name": "stdout",
     "output_type": "stream",
     "text": [
      "Requirement already satisfied: psycopg2 in c:\\programdata\\anaconda3\\lib\\site-packages (2.8.3)\n"
     ]
    }
   ],
   "source": [
    "!pip install psycopg2"
   ]
  },
  {
   "cell_type": "code",
   "execution_count": 2,
   "metadata": {},
   "outputs": [],
   "source": [
    "import pandas\n",
    "import configparser\n",
    "import psycopg2"
   ]
  },
  {
   "cell_type": "code",
   "execution_count": 3,
   "metadata": {},
   "outputs": [],
   "source": [
    "config = configparser.ConfigParser()\n",
    "config.read('configureir')\n",
    "\n",
    "\n",
    "host = config['myaws']['host']\n",
    "user = config['myaws']['user']\n",
    "pswd = config['myaws']['pswd']\n",
    "database = config['myaws']['database']"
   ]
  },
  {
   "cell_type": "code",
   "execution_count": 4,
   "metadata": {},
   "outputs": [],
   "source": [
    "conn = psycopg2.connect (\n",
    "                        host = host,\n",
    "                        user = user,\n",
    "                        password = pswd,\n",
    "                        dbname = database\n",
    ")"
   ]
  },
  {
   "cell_type": "code",
   "execution_count": 5,
   "metadata": {},
   "outputs": [],
   "source": [
    "cur= conn.cursor()"
   ]
  },
  {
   "cell_type": "code",
   "execution_count": 6,
   "metadata": {},
   "outputs": [],
   "source": [
    "sql_statement = '''\n",
    "                select bathroom,bedroom \n",
    "                from house_price\n",
    "                where bathroom > 2\n",
    "                limit 5\n",
    "                '''\n"
   ]
  },
  {
   "cell_type": "code",
   "execution_count": 7,
   "metadata": {},
   "outputs": [],
   "source": [
    "cur.execute(sql_statement)"
   ]
  },
  {
   "cell_type": "code",
   "execution_count": 8,
   "metadata": {},
   "outputs": [
    {
     "data": {
      "text/plain": [
       "(4.0, 4.0)"
      ]
     },
     "execution_count": 8,
     "metadata": {},
     "output_type": "execute_result"
    }
   ],
   "source": [
    "cur.fetchone()"
   ]
  },
  {
   "cell_type": "code",
   "execution_count": 9,
   "metadata": {},
   "outputs": [
    {
     "name": "stdout",
     "output_type": "stream",
     "text": [
      "(4.0, 5.0)\n",
      "(3.0, 2.0)\n",
      "(3.0, 3.0)\n",
      "(3.0, 4.0)\n"
     ]
    }
   ],
   "source": [
    "for result in cur.fetchall():\n",
    "    print(result)"
   ]
  },
  {
   "cell_type": "code",
   "execution_count": 10,
   "metadata": {},
   "outputs": [
    {
     "data": {
      "text/html": [
       "<div>\n",
       "<style scoped>\n",
       "    .dataframe tbody tr th:only-of-type {\n",
       "        vertical-align: middle;\n",
       "    }\n",
       "\n",
       "    .dataframe tbody tr th {\n",
       "        vertical-align: top;\n",
       "    }\n",
       "\n",
       "    .dataframe thead th {\n",
       "        text-align: right;\n",
       "    }\n",
       "</style>\n",
       "<table border=\"1\" class=\"dataframe\">\n",
       "  <thead>\n",
       "    <tr style=\"text-align: right;\">\n",
       "      <th></th>\n",
       "      <th>bathroom</th>\n",
       "      <th>bedroom</th>\n",
       "    </tr>\n",
       "  </thead>\n",
       "  <tbody>\n",
       "    <tr>\n",
       "      <th>0</th>\n",
       "      <td>4.0</td>\n",
       "      <td>4.0</td>\n",
       "    </tr>\n",
       "    <tr>\n",
       "      <th>1</th>\n",
       "      <td>4.0</td>\n",
       "      <td>5.0</td>\n",
       "    </tr>\n",
       "    <tr>\n",
       "      <th>2</th>\n",
       "      <td>3.0</td>\n",
       "      <td>2.0</td>\n",
       "    </tr>\n",
       "    <tr>\n",
       "      <th>3</th>\n",
       "      <td>3.0</td>\n",
       "      <td>3.0</td>\n",
       "    </tr>\n",
       "    <tr>\n",
       "      <th>4</th>\n",
       "      <td>3.0</td>\n",
       "      <td>4.0</td>\n",
       "    </tr>\n",
       "  </tbody>\n",
       "</table>\n",
       "</div>"
      ],
      "text/plain": [
       "   bathroom  bedroom\n",
       "0       4.0      4.0\n",
       "1       4.0      5.0\n",
       "2       3.0      2.0\n",
       "3       3.0      3.0\n",
       "4       3.0      4.0"
      ]
     },
     "execution_count": 10,
     "metadata": {},
     "output_type": "execute_result"
    }
   ],
   "source": [
    "df = pandas.read_sql_query(sql_statement,conn)\n",
    "df[:]"
   ]
  },
  {
   "cell_type": "markdown",
   "metadata": {},
   "source": [
    "# Q1"
   ]
  },
  {
   "cell_type": "code",
   "execution_count": 11,
   "metadata": {},
   "outputs": [],
   "source": [
    "sql_statement = '''\n",
    "                select * from student_grp14\n",
    "                '''"
   ]
  },
  {
   "cell_type": "code",
   "execution_count": 12,
   "metadata": {},
   "outputs": [
    {
     "data": {
      "text/html": [
       "<div>\n",
       "<style scoped>\n",
       "    .dataframe tbody tr th:only-of-type {\n",
       "        vertical-align: middle;\n",
       "    }\n",
       "\n",
       "    .dataframe tbody tr th {\n",
       "        vertical-align: top;\n",
       "    }\n",
       "\n",
       "    .dataframe thead th {\n",
       "        text-align: right;\n",
       "    }\n",
       "</style>\n",
       "<table border=\"1\" class=\"dataframe\">\n",
       "  <thead>\n",
       "    <tr style=\"text-align: right;\">\n",
       "      <th></th>\n",
       "      <th>email</th>\n",
       "      <th>name</th>\n",
       "      <th>major</th>\n",
       "    </tr>\n",
       "  </thead>\n",
       "  <tbody>\n",
       "    <tr>\n",
       "      <th>0</th>\n",
       "      <td>jones1ab@dukes.jmu.edu                        ...</td>\n",
       "      <td>Allen Jones                                   ...</td>\n",
       "      <td>Intelligence Analysis                         ...</td>\n",
       "    </tr>\n",
       "    <tr>\n",
       "      <th>1</th>\n",
       "      <td>fitzpatrick31g@dukes.jmu.edu                  ...</td>\n",
       "      <td>Gina Fitzpatrick                              ...</td>\n",
       "      <td>Intelligence Analysis                        ...</td>\n",
       "    </tr>\n",
       "    <tr>\n",
       "      <th>2</th>\n",
       "      <td>johnsonN32@dukes.jmu.edu                      ...</td>\n",
       "      <td>Nathan Johnson                                ...</td>\n",
       "      <td>Geographic Science                            ...</td>\n",
       "    </tr>\n",
       "    <tr>\n",
       "      <th>3</th>\n",
       "      <td>zoft21l@dukes.jmu.edu                         ...</td>\n",
       "      <td>Lexi Zoft                                     ...</td>\n",
       "      <td>Intelligence Analysis and International Affai...</td>\n",
       "    </tr>\n",
       "    <tr>\n",
       "      <th>4</th>\n",
       "      <td>smith1ab@dukes.jmu.edu                        ...</td>\n",
       "      <td>Alex Smith                                    ...</td>\n",
       "      <td>Geograhic Science                            ...</td>\n",
       "    </tr>\n",
       "    <tr>\n",
       "      <th>5</th>\n",
       "      <td>smith2av                                      ...</td>\n",
       "      <td>Aubs                                          ...</td>\n",
       "      <td>Justice                                       ...</td>\n",
       "    </tr>\n",
       "  </tbody>\n",
       "</table>\n",
       "</div>"
      ],
      "text/plain": [
       "                                               email  \\\n",
       "0  jones1ab@dukes.jmu.edu                        ...   \n",
       "1  fitzpatrick31g@dukes.jmu.edu                  ...   \n",
       "2  johnsonN32@dukes.jmu.edu                      ...   \n",
       "3  zoft21l@dukes.jmu.edu                         ...   \n",
       "4  smith1ab@dukes.jmu.edu                        ...   \n",
       "5  smith2av                                      ...   \n",
       "\n",
       "                                                name  \\\n",
       "0  Allen Jones                                   ...   \n",
       "1  Gina Fitzpatrick                              ...   \n",
       "2  Nathan Johnson                                ...   \n",
       "3  Lexi Zoft                                     ...   \n",
       "4  Alex Smith                                    ...   \n",
       "5  Aubs                                          ...   \n",
       "\n",
       "                                               major  \n",
       "0  Intelligence Analysis                         ...  \n",
       "1   Intelligence Analysis                        ...  \n",
       "2  Geographic Science                            ...  \n",
       "3   Intelligence Analysis and International Affai...  \n",
       "4   Geograhic Science                            ...  \n",
       "5  Justice                                       ...  "
      ]
     },
     "execution_count": 12,
     "metadata": {},
     "output_type": "execute_result"
    }
   ],
   "source": [
    "df = pandas.read_sql_query(sql_statement,conn)\n",
    "df[:]"
   ]
  },
  {
   "cell_type": "markdown",
   "metadata": {},
   "source": [
    "# Q2"
   ]
  },
  {
   "cell_type": "code",
   "execution_count": 13,
   "metadata": {},
   "outputs": [],
   "source": [
    "sql_statement = '''\n",
    "               select \n",
    "cname,\n",
    "count (semail)\n",
    "from correlation_grp14\n",
    "group by cname\n",
    "order by count (semail) desc\n",
    "limit 1\n",
    "                '''"
   ]
  },
  {
   "cell_type": "code",
   "execution_count": 14,
   "metadata": {},
   "outputs": [
    {
     "data": {
      "text/html": [
       "<div>\n",
       "<style scoped>\n",
       "    .dataframe tbody tr th:only-of-type {\n",
       "        vertical-align: middle;\n",
       "    }\n",
       "\n",
       "    .dataframe tbody tr th {\n",
       "        vertical-align: top;\n",
       "    }\n",
       "\n",
       "    .dataframe thead th {\n",
       "        text-align: right;\n",
       "    }\n",
       "</style>\n",
       "<table border=\"1\" class=\"dataframe\">\n",
       "  <thead>\n",
       "    <tr style=\"text-align: right;\">\n",
       "      <th></th>\n",
       "      <th>cname</th>\n",
       "      <th>count</th>\n",
       "    </tr>\n",
       "  </thead>\n",
       "  <tbody>\n",
       "    <tr>\n",
       "      <th>0</th>\n",
       "      <td>IA 210 - Introduction to Global Competitive In...</td>\n",
       "      <td>1</td>\n",
       "    </tr>\n",
       "  </tbody>\n",
       "</table>\n",
       "</div>"
      ],
      "text/plain": [
       "                                               cname  count\n",
       "0  IA 210 - Introduction to Global Competitive In...      1"
      ]
     },
     "execution_count": 14,
     "metadata": {},
     "output_type": "execute_result"
    }
   ],
   "source": [
    "df = pandas.read_sql_query(sql_statement,conn)\n",
    "df[:]"
   ]
  },
  {
   "cell_type": "markdown",
   "metadata": {},
   "source": [
    "# Q3"
   ]
  },
  {
   "cell_type": "code",
   "execution_count": 15,
   "metadata": {},
   "outputs": [],
   "source": [
    "sql_statement = '''\n",
    "            select * from teacher_grp14\n",
    "            full join course_grp14\n",
    "            on teacher_grp14.email = course_grp14.temail\n",
    "            '''"
   ]
  },
  {
   "cell_type": "code",
   "execution_count": 16,
   "metadata": {},
   "outputs": [
    {
     "data": {
      "text/html": [
       "<div>\n",
       "<style scoped>\n",
       "    .dataframe tbody tr th:only-of-type {\n",
       "        vertical-align: middle;\n",
       "    }\n",
       "\n",
       "    .dataframe tbody tr th {\n",
       "        vertical-align: top;\n",
       "    }\n",
       "\n",
       "    .dataframe thead th {\n",
       "        text-align: right;\n",
       "    }\n",
       "</style>\n",
       "<table border=\"1\" class=\"dataframe\">\n",
       "  <thead>\n",
       "    <tr style=\"text-align: right;\">\n",
       "      <th></th>\n",
       "      <th>email</th>\n",
       "      <th>name</th>\n",
       "      <th>office</th>\n",
       "      <th>name</th>\n",
       "      <th>room</th>\n",
       "      <th>temail</th>\n",
       "    </tr>\n",
       "  </thead>\n",
       "  <tbody>\n",
       "    <tr>\n",
       "      <th>0</th>\n",
       "      <td>zulaufba@jmu.edu                              ...</td>\n",
       "      <td>Barry Zulauf                                  ...</td>\n",
       "      <td>ISAT 110                                      ...</td>\n",
       "      <td>IA 480 :INTRO TO LAW ENFORCEMNT INTELLingence ...</td>\n",
       "      <td>ENGEO 2104                                    ...</td>\n",
       "      <td>zulaufba@jmu.edu                              ...</td>\n",
       "    </tr>\n",
       "    <tr>\n",
       "      <th>1</th>\n",
       "      <td>weixx@jmu.edu                                 ...</td>\n",
       "      <td>Xuebin Wei                                    ...</td>\n",
       "      <td>ISAT 112                                      ...</td>\n",
       "      <td>IA 341 - Data Mining, Modeling and Knowledge D...</td>\n",
       "      <td>ENGEO 2014                                    ...</td>\n",
       "      <td>weixx@jmu.edu                                 ...</td>\n",
       "    </tr>\n",
       "    <tr>\n",
       "      <th>2</th>\n",
       "      <td>taoqx@jmu.edu                                 ...</td>\n",
       "      <td>Qingjiu (Tom) Tao                             ...</td>\n",
       "      <td>ENGEO 210                                     ...</td>\n",
       "      <td>IA 210 - Introduction to Global Competitive In...</td>\n",
       "      <td>ISAT 0236                                     ...</td>\n",
       "      <td>taoqx@jmu.edu                                 ...</td>\n",
       "    </tr>\n",
       "    <tr>\n",
       "      <th>3</th>\n",
       "      <td>waltontr@jmu.edu                              ...</td>\n",
       "      <td>Timothy Walton                                ...</td>\n",
       "      <td>ISAT/CS 32                                    ...</td>\n",
       "      <td>IA 261 - HYPOTHESIS TESTING                   ...</td>\n",
       "      <td>ISAT 0150                                     ...</td>\n",
       "      <td>waltontr@jmu.edu                              ...</td>\n",
       "    </tr>\n",
       "    <tr>\n",
       "      <th>4</th>\n",
       "      <td>halepete@jmu.edu                              ...</td>\n",
       "      <td>Haley Peterson                                ...</td>\n",
       "      <td>HH 400                                        ...</td>\n",
       "      <td>IA 317: Counterterrorism                      ...</td>\n",
       "      <td>HH400                                         ...</td>\n",
       "      <td>halepete@jmu.edu                              ...</td>\n",
       "    </tr>\n",
       "    <tr>\n",
       "      <th>5</th>\n",
       "      <td>new_email                                     ...</td>\n",
       "      <td>new_name1                                     ...</td>\n",
       "      <td>new_office1                                   ...</td>\n",
       "      <td>new_name                                      ...</td>\n",
       "      <td>new_room                                      ...</td>\n",
       "      <td>new_email                                     ...</td>\n",
       "    </tr>\n",
       "    <tr>\n",
       "      <th>6</th>\n",
       "      <td>halepete@jmu.edu                              ...</td>\n",
       "      <td>Haley Peterson                                ...</td>\n",
       "      <td>HH 400                                        ...</td>\n",
       "      <td>IA 340 - Data Mining, Modeling and Knowledge D...</td>\n",
       "      <td>ISAT 0336                                     ...</td>\n",
       "      <td>halepete@jmu.edu                              ...</td>\n",
       "    </tr>\n",
       "    <tr>\n",
       "      <th>7</th>\n",
       "      <td>paumarbey@jmu.edu\\n                           ...</td>\n",
       "      <td>Paul Mabrey                                   ...</td>\n",
       "      <td>Harrison Hall 1003                            ...</td>\n",
       "      <td>None</td>\n",
       "      <td>None</td>\n",
       "      <td>None</td>\n",
       "    </tr>\n",
       "  </tbody>\n",
       "</table>\n",
       "</div>"
      ],
      "text/plain": [
       "                                               email  \\\n",
       "0  zulaufba@jmu.edu                              ...   \n",
       "1  weixx@jmu.edu                                 ...   \n",
       "2  taoqx@jmu.edu                                 ...   \n",
       "3  waltontr@jmu.edu                              ...   \n",
       "4  halepete@jmu.edu                              ...   \n",
       "5  new_email                                     ...   \n",
       "6  halepete@jmu.edu                              ...   \n",
       "7  paumarbey@jmu.edu\\n                           ...   \n",
       "\n",
       "                                                name  \\\n",
       "0  Barry Zulauf                                  ...   \n",
       "1  Xuebin Wei                                    ...   \n",
       "2  Qingjiu (Tom) Tao                             ...   \n",
       "3  Timothy Walton                                ...   \n",
       "4  Haley Peterson                                ...   \n",
       "5  new_name1                                     ...   \n",
       "6  Haley Peterson                                ...   \n",
       "7  Paul Mabrey                                   ...   \n",
       "\n",
       "                                              office  \\\n",
       "0  ISAT 110                                      ...   \n",
       "1  ISAT 112                                      ...   \n",
       "2  ENGEO 210                                     ...   \n",
       "3  ISAT/CS 32                                    ...   \n",
       "4  HH 400                                        ...   \n",
       "5  new_office1                                   ...   \n",
       "6  HH 400                                        ...   \n",
       "7  Harrison Hall 1003                            ...   \n",
       "\n",
       "                                                name  \\\n",
       "0  IA 480 :INTRO TO LAW ENFORCEMNT INTELLingence ...   \n",
       "1  IA 341 - Data Mining, Modeling and Knowledge D...   \n",
       "2  IA 210 - Introduction to Global Competitive In...   \n",
       "3  IA 261 - HYPOTHESIS TESTING                   ...   \n",
       "4  IA 317: Counterterrorism                      ...   \n",
       "5  new_name                                      ...   \n",
       "6  IA 340 - Data Mining, Modeling and Knowledge D...   \n",
       "7                                               None   \n",
       "\n",
       "                                                room  \\\n",
       "0  ENGEO 2104                                    ...   \n",
       "1  ENGEO 2014                                    ...   \n",
       "2  ISAT 0236                                     ...   \n",
       "3  ISAT 0150                                     ...   \n",
       "4  HH400                                         ...   \n",
       "5  new_room                                      ...   \n",
       "6  ISAT 0336                                     ...   \n",
       "7                                               None   \n",
       "\n",
       "                                              temail  \n",
       "0  zulaufba@jmu.edu                              ...  \n",
       "1  weixx@jmu.edu                                 ...  \n",
       "2  taoqx@jmu.edu                                 ...  \n",
       "3  waltontr@jmu.edu                              ...  \n",
       "4  halepete@jmu.edu                              ...  \n",
       "5  new_email                                     ...  \n",
       "6  halepete@jmu.edu                              ...  \n",
       "7                                               None  "
      ]
     },
     "execution_count": 16,
     "metadata": {},
     "output_type": "execute_result"
    }
   ],
   "source": [
    "df = pandas.read_sql_query(sql_statement,conn)\n",
    "df[:]"
   ]
  },
  {
   "cell_type": "markdown",
   "metadata": {},
   "source": [
    "## Q4"
   ]
  },
  {
   "cell_type": "code",
   "execution_count": 64,
   "metadata": {},
   "outputs": [],
   "source": [
    "sql_statement = '''\n",
    "select\n",
    "teacher_grp14.name as tname,\n",
    "count(course_grp14.name) as course_num\n",
    "from teacher_grp14\n",
    "full join course_grp14\n",
    "on teacher_grp14.email = course_grp14.temail\n",
    "group by teacher_grp14.name\n",
    "order by count (teacher_grp14.name) desc\n",
    "limit 1\n",
    "                '''"
   ]
  },
  {
   "cell_type": "code",
   "execution_count": 65,
   "metadata": {},
   "outputs": [
    {
     "data": {
      "text/html": [
       "<div>\n",
       "<style scoped>\n",
       "    .dataframe tbody tr th:only-of-type {\n",
       "        vertical-align: middle;\n",
       "    }\n",
       "\n",
       "    .dataframe tbody tr th {\n",
       "        vertical-align: top;\n",
       "    }\n",
       "\n",
       "    .dataframe thead th {\n",
       "        text-align: right;\n",
       "    }\n",
       "</style>\n",
       "<table border=\"1\" class=\"dataframe\">\n",
       "  <thead>\n",
       "    <tr style=\"text-align: right;\">\n",
       "      <th></th>\n",
       "      <th>tname</th>\n",
       "      <th>course_num</th>\n",
       "    </tr>\n",
       "  </thead>\n",
       "  <tbody>\n",
       "    <tr>\n",
       "      <th>0</th>\n",
       "      <td>Haley Peterson                                ...</td>\n",
       "      <td>2</td>\n",
       "    </tr>\n",
       "  </tbody>\n",
       "</table>\n",
       "</div>"
      ],
      "text/plain": [
       "                                               tname  course_num\n",
       "0  Haley Peterson                                ...           2"
      ]
     },
     "execution_count": 65,
     "metadata": {},
     "output_type": "execute_result"
    }
   ],
   "source": [
    "df = pandas.read_sql_query(sql_statement,conn)\n",
    "df[:]"
   ]
  },
  {
   "cell_type": "markdown",
   "metadata": {},
   "source": [
    "# Q5"
   ]
  },
  {
   "cell_type": "code",
   "execution_count": 19,
   "metadata": {},
   "outputs": [
    {
     "name": "stdout",
     "output_type": "stream",
     "text": [
      "\n",
      "                    insert into teacher_grp14(email,name,office)\n",
      "                    values('new_email','new_name1','new_office1')\n",
      "                    \n"
     ]
    }
   ],
   "source": [
    "sql_insert_statement = '''\n",
    "                    insert into teacher_grp14(email,name,office)\n",
    "                    values('{}','{}','{}')\n",
    "                    '''.format('new_email','new_name1','new_office1')\n",
    "print(sql_insert_statement)"
   ]
  },
  {
   "cell_type": "code",
   "execution_count": 20,
   "metadata": {},
   "outputs": [
    {
     "name": "stdout",
     "output_type": "stream",
     "text": [
      "\n",
      "                    insert into course_grp14(name,room,temail)\n",
      "                    values('new_name','new_room','new_email')\n",
      "                    \n"
     ]
    }
   ],
   "source": [
    "sql_insert_statement = '''\n",
    "                    insert into course_grp14(name,room,temail)\n",
    "                    values('{}','{}','{}')\n",
    "                    '''.format('new_name','new_room','new_email')\n",
    "print(sql_insert_statement)"
   ]
  },
  {
   "cell_type": "code",
   "execution_count": 79,
   "metadata": {},
   "outputs": [],
   "source": [
    "cur.execute(sql_insert_statement)"
   ]
  },
  {
   "cell_type": "code",
   "execution_count": 22,
   "metadata": {},
   "outputs": [],
   "source": [
    "conn.commit()"
   ]
  },
  {
   "cell_type": "code",
   "execution_count": 23,
   "metadata": {},
   "outputs": [
    {
     "data": {
      "text/html": [
       "<div>\n",
       "<style scoped>\n",
       "    .dataframe tbody tr th:only-of-type {\n",
       "        vertical-align: middle;\n",
       "    }\n",
       "\n",
       "    .dataframe tbody tr th {\n",
       "        vertical-align: top;\n",
       "    }\n",
       "\n",
       "    .dataframe thead th {\n",
       "        text-align: right;\n",
       "    }\n",
       "</style>\n",
       "<table border=\"1\" class=\"dataframe\">\n",
       "  <thead>\n",
       "    <tr style=\"text-align: right;\">\n",
       "      <th></th>\n",
       "      <th>name</th>\n",
       "      <th>room</th>\n",
       "      <th>temail</th>\n",
       "    </tr>\n",
       "  </thead>\n",
       "  <tbody>\n",
       "    <tr>\n",
       "      <th>0</th>\n",
       "      <td>IA 480 :INTRO TO LAW ENFORCEMNT INTELLingence ...</td>\n",
       "      <td>ENGEO 2104                                    ...</td>\n",
       "      <td>zulaufba@jmu.edu                              ...</td>\n",
       "    </tr>\n",
       "    <tr>\n",
       "      <th>1</th>\n",
       "      <td>IA 341 - Data Mining, Modeling and Knowledge D...</td>\n",
       "      <td>ENGEO 2014                                    ...</td>\n",
       "      <td>weixx@jmu.edu                                 ...</td>\n",
       "    </tr>\n",
       "    <tr>\n",
       "      <th>2</th>\n",
       "      <td>IA 210 - Introduction to Global Competitive In...</td>\n",
       "      <td>ISAT 0236                                     ...</td>\n",
       "      <td>taoqx@jmu.edu                                 ...</td>\n",
       "    </tr>\n",
       "    <tr>\n",
       "      <th>3</th>\n",
       "      <td>IA 261 - HYPOTHESIS TESTING                   ...</td>\n",
       "      <td>ISAT 0150                                     ...</td>\n",
       "      <td>waltontr@jmu.edu                              ...</td>\n",
       "    </tr>\n",
       "    <tr>\n",
       "      <th>4</th>\n",
       "      <td>IA 317: Counterterrorism                      ...</td>\n",
       "      <td>HH400                                         ...</td>\n",
       "      <td>halepete@jmu.edu                              ...</td>\n",
       "    </tr>\n",
       "    <tr>\n",
       "      <th>5</th>\n",
       "      <td>new_name                                      ...</td>\n",
       "      <td>new_room                                      ...</td>\n",
       "      <td>new_email                                     ...</td>\n",
       "    </tr>\n",
       "    <tr>\n",
       "      <th>6</th>\n",
       "      <td>IA 340 - Data Mining, Modeling and Knowledge D...</td>\n",
       "      <td>ISAT 0336                                     ...</td>\n",
       "      <td>halepete@jmu.edu                              ...</td>\n",
       "    </tr>\n",
       "  </tbody>\n",
       "</table>\n",
       "</div>"
      ],
      "text/plain": [
       "                                                name  \\\n",
       "0  IA 480 :INTRO TO LAW ENFORCEMNT INTELLingence ...   \n",
       "1  IA 341 - Data Mining, Modeling and Knowledge D...   \n",
       "2  IA 210 - Introduction to Global Competitive In...   \n",
       "3  IA 261 - HYPOTHESIS TESTING                   ...   \n",
       "4  IA 317: Counterterrorism                      ...   \n",
       "5  new_name                                      ...   \n",
       "6  IA 340 - Data Mining, Modeling and Knowledge D...   \n",
       "\n",
       "                                                room  \\\n",
       "0  ENGEO 2104                                    ...   \n",
       "1  ENGEO 2014                                    ...   \n",
       "2  ISAT 0236                                     ...   \n",
       "3  ISAT 0150                                     ...   \n",
       "4  HH400                                         ...   \n",
       "5  new_room                                      ...   \n",
       "6  ISAT 0336                                     ...   \n",
       "\n",
       "                                              temail  \n",
       "0  zulaufba@jmu.edu                              ...  \n",
       "1  weixx@jmu.edu                                 ...  \n",
       "2  taoqx@jmu.edu                                 ...  \n",
       "3  waltontr@jmu.edu                              ...  \n",
       "4  halepete@jmu.edu                              ...  \n",
       "5  new_email                                     ...  \n",
       "6  halepete@jmu.edu                              ...  "
      ]
     },
     "execution_count": 23,
     "metadata": {},
     "output_type": "execute_result"
    }
   ],
   "source": [
    "df = pandas.read_sql_query(\"\"\"select * from course_grp14\"\"\",conn)\n",
    "df[:]"
   ]
  },
  {
   "cell_type": "markdown",
   "metadata": {},
   "source": [
    "# Q6"
   ]
  },
  {
   "cell_type": "code",
   "execution_count": 41,
   "metadata": {},
   "outputs": [],
   "source": [
    "sql_insert_statement = '''\n",
    "update course_grp14\n",
    "set temail = '{}'\n",
    "where name = '{}'\n",
    "                        '''.format('haltepete@jmu.edu', 'IA 340- Data Mining, Modeling and Knowledge Discovery')"
   ]
  },
  {
   "cell_type": "code",
   "execution_count": 42,
   "metadata": {},
   "outputs": [],
   "source": [
    "cur.execute(sql_insert_statement)"
   ]
  },
  {
   "cell_type": "code",
   "execution_count": 43,
   "metadata": {},
   "outputs": [],
   "source": [
    "conn.commit()"
   ]
  },
  {
   "cell_type": "code",
   "execution_count": 44,
   "metadata": {},
   "outputs": [
    {
     "data": {
      "text/html": [
       "<div>\n",
       "<style scoped>\n",
       "    .dataframe tbody tr th:only-of-type {\n",
       "        vertical-align: middle;\n",
       "    }\n",
       "\n",
       "    .dataframe tbody tr th {\n",
       "        vertical-align: top;\n",
       "    }\n",
       "\n",
       "    .dataframe thead th {\n",
       "        text-align: right;\n",
       "    }\n",
       "</style>\n",
       "<table border=\"1\" class=\"dataframe\">\n",
       "  <thead>\n",
       "    <tr style=\"text-align: right;\">\n",
       "      <th></th>\n",
       "      <th>name</th>\n",
       "      <th>room</th>\n",
       "      <th>temail</th>\n",
       "    </tr>\n",
       "  </thead>\n",
       "  <tbody>\n",
       "    <tr>\n",
       "      <th>0</th>\n",
       "      <td>IA 480 :INTRO TO LAW ENFORCEMNT INTELLingence ...</td>\n",
       "      <td>ENGEO 2104                                    ...</td>\n",
       "      <td>zulaufba@jmu.edu                              ...</td>\n",
       "    </tr>\n",
       "    <tr>\n",
       "      <th>1</th>\n",
       "      <td>IA 341 - Data Mining, Modeling and Knowledge D...</td>\n",
       "      <td>ENGEO 2014                                    ...</td>\n",
       "      <td>weixx@jmu.edu                                 ...</td>\n",
       "    </tr>\n",
       "    <tr>\n",
       "      <th>2</th>\n",
       "      <td>IA 210 - Introduction to Global Competitive In...</td>\n",
       "      <td>ISAT 0236                                     ...</td>\n",
       "      <td>taoqx@jmu.edu                                 ...</td>\n",
       "    </tr>\n",
       "    <tr>\n",
       "      <th>3</th>\n",
       "      <td>IA 261 - HYPOTHESIS TESTING                   ...</td>\n",
       "      <td>ISAT 0150                                     ...</td>\n",
       "      <td>waltontr@jmu.edu                              ...</td>\n",
       "    </tr>\n",
       "    <tr>\n",
       "      <th>4</th>\n",
       "      <td>IA 317: Counterterrorism                      ...</td>\n",
       "      <td>HH400                                         ...</td>\n",
       "      <td>halepete@jmu.edu                              ...</td>\n",
       "    </tr>\n",
       "    <tr>\n",
       "      <th>5</th>\n",
       "      <td>new_name                                      ...</td>\n",
       "      <td>new_room                                      ...</td>\n",
       "      <td>new_email                                     ...</td>\n",
       "    </tr>\n",
       "    <tr>\n",
       "      <th>6</th>\n",
       "      <td>IA 340 - Data Mining, Modeling and Knowledge D...</td>\n",
       "      <td>ISAT 0336                                     ...</td>\n",
       "      <td>halepete@jmu.edu                              ...</td>\n",
       "    </tr>\n",
       "  </tbody>\n",
       "</table>\n",
       "</div>"
      ],
      "text/plain": [
       "                                                name  \\\n",
       "0  IA 480 :INTRO TO LAW ENFORCEMNT INTELLingence ...   \n",
       "1  IA 341 - Data Mining, Modeling and Knowledge D...   \n",
       "2  IA 210 - Introduction to Global Competitive In...   \n",
       "3  IA 261 - HYPOTHESIS TESTING                   ...   \n",
       "4  IA 317: Counterterrorism                      ...   \n",
       "5  new_name                                      ...   \n",
       "6  IA 340 - Data Mining, Modeling and Knowledge D...   \n",
       "\n",
       "                                                room  \\\n",
       "0  ENGEO 2104                                    ...   \n",
       "1  ENGEO 2014                                    ...   \n",
       "2  ISAT 0236                                     ...   \n",
       "3  ISAT 0150                                     ...   \n",
       "4  HH400                                         ...   \n",
       "5  new_room                                      ...   \n",
       "6  ISAT 0336                                     ...   \n",
       "\n",
       "                                              temail  \n",
       "0  zulaufba@jmu.edu                              ...  \n",
       "1  weixx@jmu.edu                                 ...  \n",
       "2  taoqx@jmu.edu                                 ...  \n",
       "3  waltontr@jmu.edu                              ...  \n",
       "4  halepete@jmu.edu                              ...  \n",
       "5  new_email                                     ...  \n",
       "6  halepete@jmu.edu                              ...  "
      ]
     },
     "execution_count": 44,
     "metadata": {},
     "output_type": "execute_result"
    }
   ],
   "source": [
    "df = pandas.read_sql_query(\"\"\"select * from course_grp14\"\"\",conn)\n",
    "df[:]"
   ]
  },
  {
   "cell_type": "code",
   "execution_count": 75,
   "metadata": {},
   "outputs": [],
   "source": [
    "sql_insert_statement = '''\n",
    "delete from teacher_grp14\n",
    "where email = '{}'\n",
    "\n",
    "                        '''.format('teateaa@jmu.edu')"
   ]
  },
  {
   "cell_type": "code",
   "execution_count": 76,
   "metadata": {},
   "outputs": [],
   "source": [
    "cur.execute(sql_insert_statement)"
   ]
  },
  {
   "cell_type": "code",
   "execution_count": 77,
   "metadata": {},
   "outputs": [],
   "source": [
    "conn.commit()"
   ]
  },
  {
   "cell_type": "code",
   "execution_count": 78,
   "metadata": {},
   "outputs": [
    {
     "data": {
      "text/html": [
       "<div>\n",
       "<style scoped>\n",
       "    .dataframe tbody tr th:only-of-type {\n",
       "        vertical-align: middle;\n",
       "    }\n",
       "\n",
       "    .dataframe tbody tr th {\n",
       "        vertical-align: top;\n",
       "    }\n",
       "\n",
       "    .dataframe thead th {\n",
       "        text-align: right;\n",
       "    }\n",
       "</style>\n",
       "<table border=\"1\" class=\"dataframe\">\n",
       "  <thead>\n",
       "    <tr style=\"text-align: right;\">\n",
       "      <th></th>\n",
       "      <th>email</th>\n",
       "      <th>name</th>\n",
       "      <th>office</th>\n",
       "    </tr>\n",
       "  </thead>\n",
       "  <tbody>\n",
       "    <tr>\n",
       "      <th>0</th>\n",
       "      <td>zulaufba@jmu.edu                              ...</td>\n",
       "      <td>Barry Zulauf                                  ...</td>\n",
       "      <td>ISAT 110                                      ...</td>\n",
       "    </tr>\n",
       "    <tr>\n",
       "      <th>1</th>\n",
       "      <td>weixx@jmu.edu                                 ...</td>\n",
       "      <td>Xuebin Wei                                    ...</td>\n",
       "      <td>ISAT 112                                      ...</td>\n",
       "    </tr>\n",
       "    <tr>\n",
       "      <th>2</th>\n",
       "      <td>waltontr@jmu.edu                              ...</td>\n",
       "      <td>Timothy Walton                                ...</td>\n",
       "      <td>ISAT/CS 32                                    ...</td>\n",
       "    </tr>\n",
       "    <tr>\n",
       "      <th>3</th>\n",
       "      <td>taoqx@jmu.edu                                 ...</td>\n",
       "      <td>Qingjiu (Tom) Tao                             ...</td>\n",
       "      <td>ENGEO 210                                     ...</td>\n",
       "    </tr>\n",
       "    <tr>\n",
       "      <th>4</th>\n",
       "      <td>paumarbey@jmu.edu\\n                           ...</td>\n",
       "      <td>Paul Mabrey                                   ...</td>\n",
       "      <td>Harrison Hall 1003                            ...</td>\n",
       "    </tr>\n",
       "    <tr>\n",
       "      <th>5</th>\n",
       "      <td>halepete@jmu.edu                              ...</td>\n",
       "      <td>Haley Peterson                                ...</td>\n",
       "      <td>HH 400                                        ...</td>\n",
       "    </tr>\n",
       "    <tr>\n",
       "      <th>6</th>\n",
       "      <td>new_email                                     ...</td>\n",
       "      <td>new_name1                                     ...</td>\n",
       "      <td>new_office1                                   ...</td>\n",
       "    </tr>\n",
       "  </tbody>\n",
       "</table>\n",
       "</div>"
      ],
      "text/plain": [
       "                                               email  \\\n",
       "0  zulaufba@jmu.edu                              ...   \n",
       "1  weixx@jmu.edu                                 ...   \n",
       "2  waltontr@jmu.edu                              ...   \n",
       "3  taoqx@jmu.edu                                 ...   \n",
       "4  paumarbey@jmu.edu\\n                           ...   \n",
       "5  halepete@jmu.edu                              ...   \n",
       "6  new_email                                     ...   \n",
       "\n",
       "                                                name  \\\n",
       "0  Barry Zulauf                                  ...   \n",
       "1  Xuebin Wei                                    ...   \n",
       "2  Timothy Walton                                ...   \n",
       "3  Qingjiu (Tom) Tao                             ...   \n",
       "4  Paul Mabrey                                   ...   \n",
       "5  Haley Peterson                                ...   \n",
       "6  new_name1                                     ...   \n",
       "\n",
       "                                              office  \n",
       "0  ISAT 110                                      ...  \n",
       "1  ISAT 112                                      ...  \n",
       "2  ISAT/CS 32                                    ...  \n",
       "3  ENGEO 210                                     ...  \n",
       "4  Harrison Hall 1003                            ...  \n",
       "5  HH 400                                        ...  \n",
       "6  new_office1                                   ...  "
      ]
     },
     "execution_count": 78,
     "metadata": {},
     "output_type": "execute_result"
    }
   ],
   "source": [
    "df = pandas.read_sql_query(\"\"\"select * from teacher_grp14\"\"\",conn)\n",
    "df[:]"
   ]
  },
  {
   "cell_type": "code",
   "execution_count": null,
   "metadata": {},
   "outputs": [],
   "source": []
  }
 ],
 "metadata": {
  "kernelspec": {
   "display_name": "Python 3",
   "language": "python",
   "name": "python3"
  },
  "language_info": {
   "codemirror_mode": {
    "name": "ipython",
    "version": 3
   },
   "file_extension": ".py",
   "mimetype": "text/x-python",
   "name": "python",
   "nbconvert_exporter": "python",
   "pygments_lexer": "ipython3",
   "version": "3.6.5"
  }
 },
 "nbformat": 4,
 "nbformat_minor": 2
}
